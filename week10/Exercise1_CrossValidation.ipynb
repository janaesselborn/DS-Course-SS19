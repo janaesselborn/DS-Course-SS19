{
 "cells": [
  {
   "cell_type": "code",
   "execution_count": 1,
   "metadata": {},
   "outputs": [],
   "source": [
    "# Load Libaries\n",
    "import pandas as pd\n",
    "import matplotlib.pyplot as plt\n",
    "from sklearn.model_selection import train_test_split\n",
    "from sklearn.metrics import roc_curve, roc_auc_score\n",
    "from numpy import trapz\n",
    "import warnings\n",
    "warnings.simplefilter(action='ignore', category=FutureWarning)\n",
    "from sklearn.ensemble import RandomForestClassifier\n",
    "import statistics"
   ]
  },
  {
   "cell_type": "code",
   "execution_count": 2,
   "metadata": {},
   "outputs": [
    {
     "name": "stdout",
     "output_type": "stream",
     "text": [
      "   returnLabel  totalAmount  c_0  c_1  c_2  c_3  c_4  c_5\n",
      "0            0          240    1    0    3    1    3    0\n",
      "1            0           79    0    0    1    0    0    0\n",
      "2            0           24    0    0    1    1    0    0\n",
      "3            0          504    0    3    0    0    1    2\n",
      "4            0          190    1    0    1    1    2    0\n"
     ]
    }
   ],
   "source": [
    "# Preprocessing\n",
    "df = pd.read_csv('data.csv')\n",
    "df = df.drop(df.columns[0], axis=1)\n",
    "print(df.head())\n",
    "\n",
    "# Define features and target\n",
    "X = df.values[:, 1:7]\n",
    "Y = df.values[:,0]\n",
    "\n",
    "# Split Data in Train and Test Data\n",
    "X_traindata, X_testdata, Y_traindata, Y_testdata = train_test_split(X, Y, test_size=0.30,random_state=101)"
   ]
  },
  {
   "cell_type": "markdown",
   "metadata": {},
   "source": [
    "# Cross Validation - From Scratch"
   ]
  },
  {
   "cell_type": "code",
   "execution_count": 3,
   "metadata": {},
   "outputs": [],
   "source": [
    "# Divide the Training Data into k folds\n",
    "def cross_validation_divide (data, k):\n",
    "    # Foldsize = Dataframe Size / Number of Folds (k)\n",
    "    foldsize = int(data[\"returnLabel\"].count() / k)\n",
    "    \n",
    "    # Folds\n",
    "    folds = []\n",
    "    \n",
    "    # Create Folds\n",
    "    c = 1\n",
    "    while (c <= k):\n",
    "        folds.append(data.iloc[:foldsize]) \n",
    "        data = data.iloc[foldsize:]\n",
    "        c = c + 1  \n",
    "    \n",
    "    return folds"
   ]
  },
  {
   "cell_type": "code",
   "execution_count": 4,
   "metadata": {},
   "outputs": [],
   "source": [
    "# Random Forest\n",
    "def random_forest (X_train, Y_train, n_estimators, max_depth):\n",
    "    # Create new Random Forest Classifier\n",
    "    rf = RandomForestClassifier(n_estimators = n_estimators, max_depth = max_depth, random_state=0, n_jobs=-1)\n",
    "\n",
    "    # Train the model\n",
    "    model = rf.fit(X_train, Y_train)\n",
    "    return model"
   ]
  },
  {
   "cell_type": "code",
   "execution_count": 5,
   "metadata": {},
   "outputs": [],
   "source": [
    "def get_area_under_the_curve (model, X_test, y_test):\n",
    "    # For ROC\n",
    "    tprf = model.predict_proba(X_test)[:,1]\n",
    "    fprf, tprf, threshold = roc_curve(y_test, tprf)\n",
    "    \n",
    "    # Calculate the area under the ROC Curve\n",
    "    area = trapz(tprf, fprf)\n",
    "    return area"
   ]
  },
  {
   "cell_type": "code",
   "execution_count": 6,
   "metadata": {},
   "outputs": [],
   "source": [
    "def cross_validation_train (folds, n_estimators, max_depth):\n",
    "    # Getting the size of the folds (= k)\n",
    "    k = len(folds)\n",
    "    \n",
    "    # Collecting the results\n",
    "    cv_results = []\n",
    "    \n",
    "    # Running through the folds and calculating the CV Results\n",
    "    n = 0\n",
    "    \n",
    "    while (n < k):\n",
    "        # Separate the testdata\n",
    "        testdata = folds[n]\n",
    "        \n",
    "        traindata = pd.DataFrame()\n",
    "        f = 0\n",
    "        \n",
    "        # Merge all other to one dataframe (one dataset)\n",
    "        while (f < k):\n",
    "            if (f != n):\n",
    "                traindata = pd.concat([traindata, folds[f]])\n",
    "                \n",
    "            f = f + 1\n",
    "            \n",
    "        # Do the Train!\n",
    "        # Define features and targets\n",
    "        X = traindata.values[:, 1:7]\n",
    "        Y = traindata.values[:,0]\n",
    "        \n",
    "        X_test = testdata.values[:, 1:7]\n",
    "        Y_test = testdata.values[:,0]\n",
    "        \n",
    "        # Call the Random Forest\n",
    "        model = random_forest(X, Y, n_estimators, max_depth)\n",
    "        area = get_area_under_the_curve(model, X_test, Y_test)\n",
    "        cv_results.append(area)\n",
    "        \n",
    "        n = n + 1\n",
    "        \n",
    "    return cv_results"
   ]
  },
  {
   "cell_type": "code",
   "execution_count": 7,
   "metadata": {},
   "outputs": [],
   "source": [
    "class setting:\n",
    "    def __init__(self, n_estimators, max_depth):\n",
    "        self.n_estimators = n_estimators\n",
    "        self.max_depth = max_depth\n",
    "        self.cv_results = []\n",
    "        self.cv_median = 0"
   ]
  },
  {
   "cell_type": "code",
   "execution_count": 8,
   "metadata": {},
   "outputs": [],
   "source": [
    "# Modify the Data for another split into the fols\n",
    "df1 = pd.DataFrame(X_traindata, columns=['totalAmount', 'c_1', 'c_2', 'c_3', 'c_4', 'c_5'])\n",
    "df2 = pd.DataFrame(Y_traindata, columns=['returnLabel'])\n",
    "dfTrain = pd.concat([df2, df1], axis=1)"
   ]
  },
  {
   "cell_type": "code",
   "execution_count": 9,
   "metadata": {
    "scrolled": true
   },
   "outputs": [],
   "source": [
    "folds = cross_validation_divide(dfTrain, 4)\n",
    "\n",
    "# Settings with different hyperparameters\n",
    "set1 = setting(10, 10)\n",
    "set2 = setting(100, 20)\n",
    "set3 = setting(100, 30)\n",
    "set4 = setting(200, 10)\n",
    "set5 = setting(200, 30)\n",
    "\n",
    "sets = [set1, set2, set3, set4, set5]"
   ]
  },
  {
   "cell_type": "code",
   "execution_count": 10,
   "metadata": {},
   "outputs": [
    {
     "name": "stdout",
     "output_type": "stream",
     "text": [
      "Max_Depth:  10\n",
      "N_Estimators:  200\n",
      "RandomForestClassifier(bootstrap=True, class_weight=None, criterion='gini',\n",
      "            max_depth=10, max_features='auto', max_leaf_nodes=None,\n",
      "            min_impurity_decrease=0.0, min_impurity_split=None,\n",
      "            min_samples_leaf=1, min_samples_split=2,\n",
      "            min_weight_fraction_leaf=0.0, n_estimators=200, n_jobs=-1,\n",
      "            oob_score=False, random_state=0, verbose=0, warm_start=False)\n"
     ]
    }
   ],
   "source": [
    "# Train with the different hyperparameters\n",
    "for s in sets:\n",
    "    s.cv_results = cross_validation_train(folds, s.n_estimators, s.max_depth)\n",
    "    \n",
    "    # Average of the results\n",
    "    s.cv_median = statistics.median(s.cv_results)\n",
    "\n",
    "# Take the best one and train with this one the overall data\n",
    "bestSetting = set1\n",
    "for s in sets:\n",
    "    if (bestSetting.cv_median < s.cv_median):\n",
    "        bestSetting = s\n",
    "\n",
    "print(\"Max_Depth: \", bestSetting.max_depth)\n",
    "print(\"N_Estimators: \",bestSetting.n_estimators)\n",
    "\n",
    "# Train with the best hyperparameters\n",
    "rf = RandomForestClassifier(random_state=0, n_jobs=-1, n_estimators = bestSetting.n_estimators, max_depth = bestSetting.max_depth)\n",
    "print(rf)\n",
    "\n",
    "# Train the model\n",
    "modelO = rf.fit(X_traindata, Y_traindata)"
   ]
  },
  {
   "cell_type": "code",
   "execution_count": 11,
   "metadata": {},
   "outputs": [
    {
     "name": "stdout",
     "output_type": "stream",
     "text": [
      "RandomForestClassifier(bootstrap=True, class_weight=None, criterion='gini',\n",
      "            max_depth=None, max_features='auto', max_leaf_nodes=None,\n",
      "            min_impurity_decrease=0.0, min_impurity_split=None,\n",
      "            min_samples_leaf=1, min_samples_split=2,\n",
      "            min_weight_fraction_leaf=0.0, n_estimators='warn', n_jobs=-1,\n",
      "            oob_score=False, random_state=0, verbose=0, warm_start=False)\n"
     ]
    }
   ],
   "source": [
    "# Doing a default RandomForest\n",
    "rfComp = RandomForestClassifier(random_state=0, n_jobs=-1)\n",
    "print(rfComp)\n",
    "\n",
    "# Train the model\n",
    "modelComp = rfComp.fit(X_traindata, Y_traindata)"
   ]
  },
  {
   "cell_type": "code",
   "execution_count": 12,
   "metadata": {},
   "outputs": [
    {
     "data": {
      "image/png": "[encoded data removed]",
      "text/plain": [
       "<Figure size 432x288 with 1 Axes>"
      ]
     },
     "metadata": {
      "needs_background": "light"
     },
     "output_type": "display_data"
    }
   ],
   "source": [
    "# Plot the curves\n",
    "# For the RandomForest with the best hyperparameters\n",
    "tprf = modelO.predict_proba(X_testdata)[:,1]\n",
    "fprf, tprf, threshold = roc_curve(Y_testdata, tprf)\n",
    "\n",
    "# For the Compare RandomForest\n",
    "tprfComp = modelComp.predict_proba(X_testdata)[:,1]\n",
    "fprfComp, tprfComp, thresholdComp = roc_curve(Y_testdata, tprfComp)\n",
    "\n",
    "plt.title(\"Receiver Operating Characteristics\")\n",
    "plt.xlabel(\"False Positive Rate\")\n",
    "plt.ylabel(\"True Positive Rate\")\n",
    "plt.plot(fprf, tprf)\n",
    "plt.plot(fprfComp, tprfComp)\n",
    "\n",
    "plt.plot([0, 1], ls=\"--\")\n",
    "plt.fill_between(fprf, tprf)\n",
    "plt.fill_between(fprfComp,tprfComp)\n",
    "\n",
    "plt.show()"
   ]
  }
 ],
 "metadata": {
  "kernelspec": {
   "display_name": "Python 3",
   "language": "python",
   "name": "python3"
  },
  "language_info": {
   "codemirror_mode": {
    "name": "ipython",
    "version": 3
   },
   "file_extension": ".py",
   "mimetype": "text/x-python",
   "name": "python",
   "nbconvert_exporter": "python",
   "pygments_lexer": "ipython3",
   "version": "3.7.3"
  }
 },
 "nbformat": 4,
 "nbformat_minor": 2
}
