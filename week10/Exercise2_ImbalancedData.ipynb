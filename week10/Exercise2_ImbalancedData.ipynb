{
 "cells": [
  {
   "cell_type": "code",
   "execution_count": 1,
   "metadata": {},
   "outputs": [],
   "source": [
    "# Load Libaries\n",
    "import pandas as pd\n",
    "import matplotlib.pyplot as plt\n",
    "from sklearn.model_selection import train_test_split\n",
    "import warnings\n",
    "warnings.simplefilter(action='ignore', category=FutureWarning)\n",
    "from sklearn.ensemble import RandomForestClassifier\n",
    "from sklearn.metrics import classification_report, accuracy_score"
   ]
  },
  {
   "cell_type": "code",
   "execution_count": 2,
   "metadata": {},
   "outputs": [
    {
     "name": "stdout",
     "output_type": "stream",
     "text": [
      "   returnLabel  totalAmount  c_0  c_1  c_2  c_3  c_4  c_5\n",
      "0            0          240    1    0    3    1    3    0\n",
      "1            0           79    0    0    1    0    0    0\n",
      "2            0           24    0    0    1    1    0    0\n",
      "3            0          504    0    3    0    0    1    2\n",
      "4            0          190    1    0    1    1    2    0\n"
     ]
    }
   ],
   "source": [
    "# Preprocessing\n",
    "df = pd.read_csv('data.csv')\n",
    "df = df.drop(df.columns[0], axis=1)\n",
    "print(df.head())\n",
    "\n",
    "# Define features and target\n",
    "X = df.values[:, 1:7]\n",
    "Y = df.values[:,0]\n",
    "\n",
    "# Split Data in Train and Test Data\n",
    "X_traindata, X_testdata, Y_traindata, Y_testdata = train_test_split(X, Y, test_size=0.30,random_state=101)"
   ]
  },
  {
   "cell_type": "code",
   "execution_count": 3,
   "metadata": {},
   "outputs": [
    {
     "name": "stdout",
     "output_type": "stream",
     "text": [
      "ReturnLabels 0:  21080\n",
      "ReturnLabels 1:  620\n"
     ]
    }
   ],
   "source": [
    "# Modify the Data to have one dataframe\n",
    "df1 = pd.DataFrame(X_traindata, columns=['totalAmount', 'c_1', 'c_2', 'c_3', 'c_4', 'c_5'])\n",
    "df2 = pd.DataFrame(Y_traindata, columns=['returnLabel'])\n",
    "df_train = pd.concat([df2, df1], axis=1)\n",
    "\n",
    "# Class count\n",
    "count_label_0, count_label_1 = df_train.returnLabel.value_counts()\n",
    "\n",
    "# Divide by class\n",
    "df_label_0 = df_train[df_train['returnLabel'] == 0]\n",
    "df_label_1 = df_train[df_train['returnLabel'] == 1]\n",
    "\n",
    "# print(df_label_0.head())\n",
    "# print(df_label_1.head())\n",
    "\n",
    "# Count the returnLabel for 0 and 1\n",
    "print(\"ReturnLabels 0: \", df_label_0['returnLabel'].count())\n",
    "print(\"ReturnLabels 1: \", df_label_1['returnLabel'].count())"
   ]
  },
  {
   "cell_type": "code",
   "execution_count": 9,
   "metadata": {},
   "outputs": [
    {
     "name": "stdout",
     "output_type": "stream",
     "text": [
      "       returnLabel  totalAmount  c_1  c_2  c_3  c_4  c_5\n",
      "19457            0           60    2    0    1    0    0\n",
      "21613            0          440    0    0    4    0    1\n",
      "14937            0          145    1    2    1    0    0\n",
      "9666             0           77    0    0    1    0    0\n",
      "18153            0           10    0    0    1    0    0\n"
     ]
    }
   ],
   "source": [
    "# Random undersampling\n",
    "# Reduce the record for the ReturnLabel = 1 to the size of the record for the ReturnLabel = 0\n",
    "df_label_0_undersampling = df_label_0.sample(count_label_1, random_state=1)\n",
    "df_undersampled = pd.concat([df_label_0_undersampling, df_label_1], axis=0)\n",
    "print(df_undersampled.head())"
   ]
  },
  {
   "cell_type": "code",
   "execution_count": 10,
   "metadata": {},
   "outputs": [],
   "source": [
    "# Preprocessing for the RandomForest with the undersampled data\n",
    "# Define features and target\n",
    "X_under = df.values[:, 1:7]\n",
    "Y_under = df.values[:,0]"
   ]
  },
  {
   "cell_type": "code",
   "execution_count": 11,
   "metadata": {},
   "outputs": [
    {
     "name": "stdout",
     "output_type": "stream",
     "text": [
      "RandomForestClassifier(bootstrap=True, class_weight=None, criterion='gini',\n",
      "            max_depth=None, max_features='auto', max_leaf_nodes=None,\n",
      "            min_impurity_decrease=0.0, min_impurity_split=None,\n",
      "            min_samples_leaf=1, min_samples_split=2,\n",
      "            min_weight_fraction_leaf=0.0, n_estimators='warn', n_jobs=-1,\n",
      "            oob_score=False, random_state=0, verbose=0, warm_start=False)\n",
      "              precision    recall  f1-score   support\n",
      "\n",
      "           0       0.99      1.00      0.99      9007\n",
      "           1       0.95      0.60      0.74       293\n",
      "\n",
      "   micro avg       0.99      0.99      0.99      9300\n",
      "   macro avg       0.97      0.80      0.87      9300\n",
      "weighted avg       0.99      0.99      0.98      9300\n",
      "\n",
      "Accuracy: 0.9864516129032258\n"
     ]
    }
   ],
   "source": [
    "# RandomForest with the undersampled data\n",
    "rf = RandomForestClassifier(random_state=0, n_jobs=-1)\n",
    "print(rf)\n",
    "\n",
    "# Train the model\n",
    "model = rf.fit(X_under, Y_under)\n",
    "\n",
    "predictions = model.predict(X_testdata)\n",
    "print(classification_report(Y_testdata,predictions))\n",
    "print(\"Accuracy:\", accuracy_score(Y_testdata, predictions))"
   ]
  },
  {
   "cell_type": "code",
   "execution_count": 12,
   "metadata": {},
   "outputs": [
    {
     "name": "stdout",
     "output_type": "stream",
     "text": [
      "RandomForestClassifier(bootstrap=True, class_weight=None, criterion='gini',\n",
      "            max_depth=None, max_features='auto', max_leaf_nodes=None,\n",
      "            min_impurity_decrease=0.0, min_impurity_split=None,\n",
      "            min_samples_leaf=1, min_samples_split=2,\n",
      "            min_weight_fraction_leaf=0.0, n_estimators='warn', n_jobs=-1,\n",
      "            oob_score=False, random_state=0, verbose=0, warm_start=False)\n",
      "              precision    recall  f1-score   support\n",
      "\n",
      "           0       0.97      0.99      0.98      9007\n",
      "           1       0.32      0.11      0.16       293\n",
      "\n",
      "   micro avg       0.96      0.96      0.96      9300\n",
      "   macro avg       0.65      0.55      0.57      9300\n",
      "weighted avg       0.95      0.96      0.96      9300\n",
      "\n",
      "Accuracy: 0.9646236559139785\n"
     ]
    }
   ],
   "source": [
    "# Compare with a RandomForest with imbalanced data\n",
    "rfComp = RandomForestClassifier(random_state=0, n_jobs=-1)\n",
    "print(rfComp)\n",
    "\n",
    "# Train the model\n",
    "modelComp = rf.fit(X_traindata, Y_traindata)\n",
    "\n",
    "predictionsComp = modelComp.predict(X_testdata)\n",
    "print(classification_report(Y_testdata,predictionsComp))\n",
    "print(\"Accuracy:\", accuracy_score(Y_testdata, predictionsComp))"
   ]
  }
 ],
 "metadata": {
  "kernelspec": {
   "display_name": "Python 3",
   "language": "python",
   "name": "python3"
  },
  "language_info": {
   "codemirror_mode": {
    "name": "ipython",
    "version": 3
   },
   "file_extension": ".py",
   "mimetype": "text/x-python",
   "name": "python",
   "nbconvert_exporter": "python",
   "pygments_lexer": "ipython3",
   "version": "3.7.3"
  }
 },
 "nbformat": 4,
 "nbformat_minor": 2
}
