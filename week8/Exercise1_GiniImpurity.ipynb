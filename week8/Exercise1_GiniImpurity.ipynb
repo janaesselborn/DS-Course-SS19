{
 "cells": [
  {
   "cell_type": "code",
   "execution_count": 1,
   "metadata": {},
   "outputs": [],
   "source": [
    "import pandas as pd\n",
    "import math"
   ]
  },
  {
   "cell_type": "code",
   "execution_count": 2,
   "metadata": {},
   "outputs": [
    {
     "data": {
      "text/html": [
       "<div>\n",
       "<style scoped>\n",
       "    .dataframe tbody tr th:only-of-type {\n",
       "        vertical-align: middle;\n",
       "    }\n",
       "\n",
       "    .dataframe tbody tr th {\n",
       "        vertical-align: top;\n",
       "    }\n",
       "\n",
       "    .dataframe thead th {\n",
       "        text-align: right;\n",
       "    }\n",
       "</style>\n",
       "<table border=\"1\" class=\"dataframe\">\n",
       "  <thead>\n",
       "    <tr style=\"text-align: right;\">\n",
       "      <th></th>\n",
       "      <th>Temperature</th>\n",
       "      <th>Outlook</th>\n",
       "      <th>Humidity</th>\n",
       "      <th>Windy</th>\n",
       "      <th>Golf</th>\n",
       "    </tr>\n",
       "  </thead>\n",
       "  <tbody>\n",
       "    <tr>\n",
       "      <th>0</th>\n",
       "      <td>hot</td>\n",
       "      <td>sunny</td>\n",
       "      <td>high</td>\n",
       "      <td>False</td>\n",
       "      <td>no</td>\n",
       "    </tr>\n",
       "    <tr>\n",
       "      <th>1</th>\n",
       "      <td>hot</td>\n",
       "      <td>sunny</td>\n",
       "      <td>high</td>\n",
       "      <td>True</td>\n",
       "      <td>no</td>\n",
       "    </tr>\n",
       "    <tr>\n",
       "      <th>2</th>\n",
       "      <td>hot</td>\n",
       "      <td>overcast</td>\n",
       "      <td>high</td>\n",
       "      <td>False</td>\n",
       "      <td>yes</td>\n",
       "    </tr>\n",
       "    <tr>\n",
       "      <th>3</th>\n",
       "      <td>cool</td>\n",
       "      <td>rain</td>\n",
       "      <td>normal</td>\n",
       "      <td>False</td>\n",
       "      <td>yes</td>\n",
       "    </tr>\n",
       "    <tr>\n",
       "      <th>4</th>\n",
       "      <td>cool</td>\n",
       "      <td>overcast</td>\n",
       "      <td>normal</td>\n",
       "      <td>True</td>\n",
       "      <td>yes</td>\n",
       "    </tr>\n",
       "  </tbody>\n",
       "</table>\n",
       "</div>"
      ],
      "text/plain": [
       "  Temperature   Outlook Humidity  Windy Golf\n",
       "0         hot     sunny     high  False   no\n",
       "1         hot     sunny     high   True   no\n",
       "2         hot  overcast     high  False  yes\n",
       "3        cool      rain   normal  False  yes\n",
       "4        cool  overcast   normal   True  yes"
      ]
     },
     "execution_count": 2,
     "metadata": {},
     "output_type": "execute_result"
    }
   ],
   "source": [
    "df = pd.read_csv('golf.csv')\n",
    "df = df.drop('Day', axis=1)\n",
    "df.head()"
   ]
  },
  {
   "cell_type": "code",
   "execution_count": 3,
   "metadata": {},
   "outputs": [],
   "source": [
    "def countData(df,column):\n",
    "    countAll = df[column].count()\n",
    "    countAllYes = (df[column] == 'yes').sum() \n",
    "    return countAll, countAllYes"
   ]
  },
  {
   "cell_type": "markdown",
   "metadata": {},
   "source": [
    "# Calculate Information Gain"
   ]
  },
  {
   "cell_type": "code",
   "execution_count": 4,
   "metadata": {},
   "outputs": [],
   "source": [
    "# a => Number of all objects; p => Number of true objects\n",
    "def entropy (a,p):\n",
    "    if (a == p):\n",
    "        return 0\n",
    "    q = a - p\n",
    "    entropy = (-(p/a))*math.log((p/a),2)-(q/a)*math.log((q/a),2)\n",
    "    return entropy"
   ]
  },
  {
   "cell_type": "code",
   "execution_count": 5,
   "metadata": {},
   "outputs": [],
   "source": [
    "def informationGain (df, column, attributes, label):\n",
    "    overallData = countData(df, label)\n",
    "    entropyAll = entropy (overallData[0], overallData[1])\n",
    "    \n",
    "    data = []\n",
    "    gain = entropyAll\n",
    "    \n",
    "    # Filter and count\n",
    "    for a in attributes:\n",
    "        data.append(countData(df[df[column] == a], label)) \n",
    "    # Calculate Gain\n",
    "    for d in data:\n",
    "        gain = gain-(d[0]/overallData[0])*entropy(d[0], d[1])\n",
    "    return gain"
   ]
  },
  {
   "cell_type": "code",
   "execution_count": 6,
   "metadata": {},
   "outputs": [
    {
     "name": "stdout",
     "output_type": "stream",
     "text": [
      "Gain(Outlook):  0.2467498197744391\n",
      "Gain(Temperature):  0.029222565658954647\n",
      "Gain(Humidity):  0.15183550136234136\n",
      "Gain(Windy):  0.04812703040826927\n"
     ]
    }
   ],
   "source": [
    "# It would be ideal, if the features would also be determined automatically\n",
    "print(\"Gain(Outlook): \", informationGain(df, 'Outlook', ['rain', 'sunny', 'overcast'], 'Golf'))\n",
    "print(\"Gain(Temperature): \", informationGain(df, 'Temperature', ['hot', 'cool', 'mild'], 'Golf'))\n",
    "print(\"Gain(Humidity): \", informationGain(df, 'Humidity', ['high', 'normal'], 'Golf'))\n",
    "print(\"Gain(Windy): \", informationGain(df, 'Windy', [True, False], 'Golf'))"
   ]
  },
  {
   "cell_type": "markdown",
   "metadata": {},
   "source": [
    "##### Choose the feature with the highest value => Outlook "
   ]
  },
  {
   "cell_type": "markdown",
   "metadata": {},
   "source": [
    "# Calculate Gini Impurity"
   ]
  },
  {
   "cell_type": "code",
   "execution_count": 7,
   "metadata": {},
   "outputs": [],
   "source": [
    "def impurity (a, p):\n",
    "    q = a - p\n",
    "    imp = (p/a)*(1-(p/a))+(q/a)*(1-(q/a))\n",
    "    return imp"
   ]
  },
  {
   "cell_type": "code",
   "execution_count": 8,
   "metadata": {},
   "outputs": [],
   "source": [
    "def giniGain (df, column, attributes, label):\n",
    "    overallData = countData(df, label)\n",
    "    impurityAll = impurity(overallData[0], overallData[1])\n",
    "    \n",
    "    data = []\n",
    "    gain = impurityAll\n",
    "    \n",
    "    # Filter and count\n",
    "    for a in attributes:\n",
    "        data.append(countData(df[df[column] == a], label)) \n",
    "\n",
    "    # Calculate Gain\n",
    "    for d in data:\n",
    "        gain = gain-(d[0]/overallData[0])*impurity(d[0], d[1])\n",
    "    return gain"
   ]
  },
  {
   "cell_type": "code",
   "execution_count": 9,
   "metadata": {},
   "outputs": [
    {
     "name": "stdout",
     "output_type": "stream",
     "text": [
      "Gain(Outlook):  0.11632653061224485\n",
      "Gain(Temperature):  0.018707482993197244\n",
      "Gain(Humidity):  0.09183673469387749\n",
      "Gain(Windy):  0.030612244897959162\n"
     ]
    }
   ],
   "source": [
    "# It would be ideal, if the features would also be determined automatically\n",
    "print(\"Gain(Outlook): \", giniGain(df, 'Outlook', ['rain', 'sunny', 'overcast'], 'Golf'))\n",
    "print(\"Gain(Temperature): \", giniGain(df, 'Temperature', ['hot', 'cool', 'mild'], 'Golf'))\n",
    "print(\"Gain(Humidity): \", giniGain(df, 'Humidity', ['high', 'normal'], 'Golf'))\n",
    "print(\"Gain(Windy): \", giniGain(df, 'Windy', [True, False], 'Golf'))"
   ]
  },
  {
   "cell_type": "markdown",
   "metadata": {},
   "source": [
    "##### Choose the feature with the highest value => Outlook "
   ]
  }
 ],
 "metadata": {
  "kernelspec": {
   "display_name": "Python 3",
   "language": "python",
   "name": "python3"
  },
  "language_info": {
   "codemirror_mode": {
    "name": "ipython",
    "version": 3
   },
   "file_extension": ".py",
   "mimetype": "text/x-python",
   "name": "python",
   "nbconvert_exporter": "python",
   "pygments_lexer": "ipython3",
   "version": "3.7.3"
  }
 },
 "nbformat": 4,
 "nbformat_minor": 2
}
