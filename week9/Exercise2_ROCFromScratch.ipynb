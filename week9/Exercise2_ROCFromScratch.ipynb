{
 "cells": [
  {
   "cell_type": "code",
   "execution_count": 1,
   "metadata": {},
   "outputs": [],
   "source": [
    "import pandas as pd\n",
    "import matplotlib.pyplot as plt\n",
    "from sklearn.model_selection import train_test_split\n",
    "from sklearn.metrics import roc_curve, roc_auc_score\n",
    "from sklearn.preprocessing import StandardScaler"
   ]
  },
  {
   "cell_type": "code",
   "execution_count": 2,
   "metadata": {},
   "outputs": [
    {
     "name": "stderr",
     "output_type": "stream",
     "text": [
      "D:\\Programme\\Anaconda\\lib\\site-packages\\sklearn\\utils\\validation.py:595: DataConversionWarning: Data with input dtype int64 was converted to float64 by StandardScaler.\n",
      "  warnings.warn(msg, DataConversionWarning)\n",
      "D:\\Programme\\Anaconda\\lib\\site-packages\\sklearn\\utils\\validation.py:595: DataConversionWarning: Data with input dtype int64 was converted to float64 by StandardScaler.\n",
      "  warnings.warn(msg, DataConversionWarning)\n"
     ]
    }
   ],
   "source": [
    "df = pd.read_csv('data.csv')\n",
    "df = df.drop(df.columns[0], axis=1)\n",
    "\n",
    "# Define features and target\n",
    "X = df.values[:, 1:6]\n",
    "Y = df.values[:,0]\n",
    "\n",
    "scaler = StandardScaler()\n",
    "X = scaler.fit_transform(X)\n",
    "\n",
    "# Split Data in Train and Test Data\n",
    "X_train, X_test, y_train, y_test = train_test_split(X, Y, test_size=0.30,random_state=101)"
   ]
  },
  {
   "cell_type": "markdown",
   "metadata": {},
   "source": [
    "### Logistic Regression"
   ]
  },
  {
   "cell_type": "code",
   "execution_count": 3,
   "metadata": {},
   "outputs": [
    {
     "name": "stderr",
     "output_type": "stream",
     "text": [
      "D:\\Programme\\Anaconda\\lib\\site-packages\\sklearn\\linear_model\\logistic.py:433: FutureWarning: Default solver will be changed to 'lbfgs' in 0.22. Specify a solver to silence this warning.\n",
      "  FutureWarning)\n"
     ]
    }
   ],
   "source": [
    "# Load Libary\n",
    "from sklearn.linear_model import LogisticRegression\n",
    "\n",
    "# Create new Logistic Regression\n",
    "lr = LogisticRegression()\n",
    "\n",
    "# Train the model\n",
    "modelLr = lr.fit(X_train,y_train)"
   ]
  },
  {
   "cell_type": "markdown",
   "metadata": {},
   "source": [
    "### Random Forest"
   ]
  },
  {
   "cell_type": "code",
   "execution_count": 4,
   "metadata": {
    "scrolled": true
   },
   "outputs": [
    {
     "name": "stderr",
     "output_type": "stream",
     "text": [
      "D:\\Programme\\Anaconda\\lib\\site-packages\\sklearn\\ensemble\\forest.py:246: FutureWarning: The default value of n_estimators will change from 10 in version 0.20 to 100 in 0.22.\n",
      "  \"10 in version 0.20 to 100 in 0.22.\", FutureWarning)\n"
     ]
    }
   ],
   "source": [
    "# Load Libary\n",
    "from sklearn.ensemble import RandomForestClassifier\n",
    "\n",
    "# Create new Random Forest Classifier\n",
    "rf = RandomForestClassifier(random_state=0, n_jobs=-1)\n",
    "\n",
    "# Train the model\n",
    "modelRf = rf.fit(X_train, y_train)"
   ]
  },
  {
   "cell_type": "markdown",
   "metadata": {},
   "source": [
    "### ROC"
   ]
  },
  {
   "cell_type": "code",
   "execution_count": 5,
   "metadata": {},
   "outputs": [],
   "source": [
    "def calculateTpr (tp, tn, fn):\n",
    "    if (tp == 0): return 0.0\n",
    "    return tp/(tp+fn);\n",
    "\n",
    "def calculateFpr (fp, fn, tn):\n",
    "    if (fp == 0): return 0.0\n",
    "    return fp/(fp+tn);"
   ]
  },
  {
   "cell_type": "code",
   "execution_count": 6,
   "metadata": {},
   "outputs": [],
   "source": [
    "def calculateRates (rm):\n",
    "    predict = rm.predict_proba(X_test)[:,1]\n",
    "\n",
    "    # Create DataFrame\n",
    "    dataframe = pd.DataFrame()\n",
    "    dataframe['predict'] = predict\n",
    "    dataframe['returnLabel'] = y_test\n",
    "\n",
    "    # Sort the prediction column\n",
    "    dataframe = dataframe.sort_values(by=['predict'], ascending=False)\n",
    "    dataframe.head()\n",
    "\n",
    "    tpr = []\n",
    "    fpr = []\n",
    "    threshold = 1.0\n",
    "\n",
    "    while threshold > 0:\n",
    "        fp = 0.0\n",
    "        tp = 0.0\n",
    "\n",
    "        tn = 0.0\n",
    "        fn = 0.0\n",
    "\n",
    "        for index, row in dataframe.iterrows():            \n",
    "            if(row['predict'] >= threshold):\n",
    "                if (row['returnLabel'] == 1):\n",
    "                    tp = tp + 1\n",
    "                else:\n",
    "                    fp = fp + 1        \n",
    "            else:\n",
    "                if (row['returnLabel'] == 1):\n",
    "                    fn = fn + 1 \n",
    "                else:\n",
    "                    tn = tn + 1\n",
    "\n",
    "        tpr.append(calculateTpr(tp, tn, fn))\n",
    "        fpr.append(calculateFpr(fp, fn, tn))\n",
    "\n",
    "        threshold = threshold - 0.001\n",
    "\n",
    "    tpr.append(1.0)\n",
    "    fpr.append(1.0)\n",
    "    return tpr,fpr"
   ]
  },
  {
   "cell_type": "code",
   "execution_count": 7,
   "metadata": {},
   "outputs": [],
   "source": [
    "# For Logistic Regression\n",
    "tplr, fplr = calculateRates(lr)\n",
    "\n",
    "# For Random Forest\n",
    "tprf, fprf = calculateRates(rf)"
   ]
  },
  {
   "cell_type": "code",
   "execution_count": 8,
   "metadata": {},
   "outputs": [
    {
     "data": {
      "image/png": "[encoded data removed]",
      "text/plain": [
       "<Figure size 432x288 with 1 Axes>"
      ]
     },
     "metadata": {
      "needs_background": "light"
     },
     "output_type": "display_data"
    }
   ],
   "source": [
    "# Represent ROC curve in the diagram\n",
    "plt.title(\"Receiver Operating Characteristics\")\n",
    "plt.xlabel(\"False Positive Rate\")\n",
    "plt.ylabel(\"True Positive Rate\")\n",
    "plt.plot(fplr, tplr)\n",
    "plt.plot(fprf, tprf)\n",
    "plt.plot([0, 1], ls=\"--\")\n",
    "plt.fill_between(fplr,tplr)\n",
    "plt.fill_between(fprf, tprf)\n",
    "plt.show()"
   ]
  }
 ],
 "metadata": {
  "kernelspec": {
   "display_name": "Python 3",
   "language": "python",
   "name": "python3"
  },
  "language_info": {
   "codemirror_mode": {
    "name": "ipython",
    "version": 3
   },
   "file_extension": ".py",
   "mimetype": "text/x-python",
   "name": "python",
   "nbconvert_exporter": "python",
   "pygments_lexer": "ipython3",
   "version": "3.7.3"
  }
 },
 "nbformat": 4,
 "nbformat_minor": 2
}
