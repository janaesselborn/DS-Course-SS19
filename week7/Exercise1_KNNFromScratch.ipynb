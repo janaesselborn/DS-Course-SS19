{
 "cells": [
  {
   "cell_type": "code",
   "execution_count": 1,
   "metadata": {},
   "outputs": [],
   "source": [
    "from sklearn.preprocessing import StandardScaler\n",
    "import pandas as pd\n",
    "import numpy as np\n",
    "import matplotlib.pyplot as plt\n",
    "from sklearn.neighbors import KNeighborsClassifier\n",
    "from sklearn.model_selection import train_test_split\n",
    "from sklearn.metrics import classification_report, accuracy_score\n",
    "import math\n",
    "import operator"
   ]
  },
  {
   "cell_type": "code",
   "execution_count": 2,
   "metadata": {},
   "outputs": [
    {
     "name": "stdout",
     "output_type": "stream",
     "text": [
      "   returnLabel  totalAmount  c_0  c_1  c_2  c_3  c_4  c_5\n",
      "0            0          240    1    0    3    1    3    0\n",
      "1            0           79    0    0    1    0    0    0\n",
      "2            0           24    0    0    1    1    0    0\n",
      "3            0          504    0    3    0    0    1    2\n",
      "4            0          190    1    0    1    1    2    0\n"
     ]
    },
    {
     "name": "stderr",
     "output_type": "stream",
     "text": [
      "D:\\Programme\\Anaconda\\lib\\site-packages\\sklearn\\utils\\validation.py:595: DataConversionWarning: Data with input dtype int64 was converted to float64 by StandardScaler.\n",
      "  warnings.warn(msg, DataConversionWarning)\n",
      "D:\\Programme\\Anaconda\\lib\\site-packages\\sklearn\\utils\\validation.py:595: DataConversionWarning: Data with input dtype int64 was converted to float64 by StandardScaler.\n",
      "  warnings.warn(msg, DataConversionWarning)\n"
     ]
    }
   ],
   "source": [
    "df = pd.read_csv('data.csv')\n",
    "df = df.drop(df.columns[0], axis=1)\n",
    "print(df.head())\n",
    "\n",
    "# For development just a few data\n",
    "df = df.head(500)\n",
    "\n",
    "# Define features and target\n",
    "X = df.values[:, 1:6]\n",
    "Y = df.values[:,0]\n",
    "\n",
    "scaler = StandardScaler()\n",
    "X = scaler.fit_transform(X)\n",
    "\n",
    "# Split Data in Train and Test Data\n",
    "X_train, X_test, y_train, y_test = train_test_split(X, Y, test_size=0.30,random_state=101)"
   ]
  },
  {
   "cell_type": "code",
   "execution_count": 3,
   "metadata": {},
   "outputs": [],
   "source": [
    "def euclideanDistance(x1,x2,length):\n",
    "    # tbd\n",
    "    distance = 0\n",
    "    for x in range(length):\n",
    "        distance += np.square(x1[x] - x2[x])\n",
    "    return np.sqrt(distance)"
   ]
  },
  {
   "cell_type": "code",
   "execution_count": 4,
   "metadata": {},
   "outputs": [],
   "source": [
    "def knn (X_train, X_test, y_train, y_test, length, k):\n",
    "    resultDF = pd.DataFrame()\n",
    "\n",
    "    counterTest = 0\n",
    "    # Going through all the points of X_test \n",
    "    for pTest in X_test:\n",
    "\n",
    "        distances = pd.DataFrame()\n",
    "        distances['Punkt'] = []\n",
    "        distances['Abstand'] = []\n",
    "        distances['Index'] = []\n",
    "\n",
    "        counter = 0\n",
    "\n",
    "        # Going through all the points of X_train \n",
    "        for p in X_train:\n",
    "            # Calculate all the distances\n",
    "            abstand = euclideanDistance(p, pTest, length)\n",
    "            newAbstand = pd.DataFrame()\n",
    "            newAbstand['Punkt'] = [p]\n",
    "            newAbstand['Abstand'] = [abstand]\n",
    "            newAbstand['Index'] = counter\n",
    "            distances = pd.concat([distances, newAbstand], ignore_index=True)\n",
    "            counter = counter + 1\n",
    "\n",
    "        # Sort distances\n",
    "        distancesSort = distances.sort_values(by=['Abstand'])\n",
    "        distancesSort.head()\n",
    "\n",
    "        # Get the first k elements\n",
    "        df = distancesSort.head(k)\n",
    "\n",
    "        count0 = 0\n",
    "        count1 = 0\n",
    "\n",
    "        for index, row in df.iterrows():\n",
    "            index = int(row['Index'])\n",
    "            # get ReturnLabel\n",
    "            returnLabel = (y_train[index])\n",
    "            if (returnLabel == 0):\n",
    "                count0 = count0 + 1\n",
    "            else: \n",
    "                count1 = count1 + 1\n",
    "\n",
    "        # Classify\n",
    "        result = \"\"\n",
    "        if (count0 < count1):\n",
    "            # print(counterTest, \"Für den Punkt\", pTest,\"wird das Return Label 1 sein!\")\n",
    "            result = 1\n",
    "        else:\n",
    "            # print(counterTest, \"Für den Punkt\", pTest,\"wird das Return Label 0 sein!\")\n",
    "            result = 0\n",
    "\n",
    "        # Save Data\n",
    "        row = pd.DataFrame()\n",
    "        row['Index'] = [counterTest]\n",
    "        row['Punkt'] = [pTest]\n",
    "        row['returnLabel Vorhersage'] = result\n",
    "\n",
    "\n",
    "        resultDF = pd.concat([resultDF, row], ignore_index=True)\n",
    "        counterTest = counterTest + 1\n",
    "\n",
    "    return resultDF"
   ]
  },
  {
   "cell_type": "code",
   "execution_count": 5,
   "metadata": {},
   "outputs": [],
   "source": [
    "def checkPerformance (y_train, y_test):\n",
    "    countTrue = 0\n",
    "    countW = 0\n",
    "    for w in y_test:\n",
    "        if (Y_result[countW] == w):\n",
    "            countTrue = countTrue + 1\n",
    "\n",
    "        countW = countW + 1\n",
    "\n",
    "    prozent = (countTrue/countW)*100\n",
    "    return prozent"
   ]
  },
  {
   "cell_type": "code",
   "execution_count": 6,
   "metadata": {},
   "outputs": [
    {
     "name": "stdout",
     "output_type": "stream",
     "text": [
      "Der Classifier liegt in 96.66666666666667 % der Fälle richtig.\n"
     ]
    }
   ],
   "source": [
    "# Start the knn Classifier\n",
    "resultDataFrame = knn(X_train, X_test, y_train, y_test, 5, 5)\n",
    "\n",
    "Y_result = resultDataFrame.values[:,2]\n",
    "# Check performance of the Classifier\n",
    "prozent = checkPerformance(Y_result, y_test)\n",
    "print(\"Der Classifier liegt in\", prozent, \"% der Fälle richtig.\")"
   ]
  }
 ],
 "metadata": {
  "kernelspec": {
   "display_name": "Python 3",
   "language": "python",
   "name": "python3"
  },
  "language_info": {
   "codemirror_mode": {
    "name": "ipython",
    "version": 3
   },
   "file_extension": ".py",
   "mimetype": "text/x-python",
   "name": "python",
   "nbconvert_exporter": "python",
   "pygments_lexer": "ipython3",
   "version": "3.7.3"
  }
 },
 "nbformat": 4,
 "nbformat_minor": 2
}
